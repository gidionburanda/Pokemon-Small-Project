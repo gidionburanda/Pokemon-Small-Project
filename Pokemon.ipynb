{
  "nbformat": 4,
  "nbformat_minor": 0,
  "metadata": {
    "colab": {
      "provenance": []
    },
    "kernelspec": {
      "name": "python3",
      "display_name": "Python 3"
    },
    "language_info": {
      "name": "python"
    }
  },
  "cells": [
    {
      "cell_type": "markdown",
      "source": [
        "# Importing Pokemon Dataset\n"
      ],
      "metadata": {
        "id": "nTPb0l5faiYO"
      }
    },
    {
      "cell_type": "code",
      "execution_count": null,
      "metadata": {
        "colab": {
          "base_uri": "https://localhost:8080/"
        },
        "id": "FHOuRczQAxn4",
        "outputId": "df943ecf-eb43-4d3e-f6df-c058dd972938"
      },
      "outputs": [
        {
          "output_type": "stream",
          "name": "stdout",
          "text": [
            "Requirement already satisfied: requests in /usr/local/lib/python3.10/dist-packages (2.27.1)\n",
            "Requirement already satisfied: pandas in /usr/local/lib/python3.10/dist-packages (1.5.3)\n",
            "Requirement already satisfied: urllib3<1.27,>=1.21.1 in /usr/local/lib/python3.10/dist-packages (from requests) (1.26.16)\n",
            "Requirement already satisfied: certifi>=2017.4.17 in /usr/local/lib/python3.10/dist-packages (from requests) (2023.7.22)\n",
            "Requirement already satisfied: charset-normalizer~=2.0.0 in /usr/local/lib/python3.10/dist-packages (from requests) (2.0.12)\n",
            "Requirement already satisfied: idna<4,>=2.5 in /usr/local/lib/python3.10/dist-packages (from requests) (3.4)\n",
            "Requirement already satisfied: python-dateutil>=2.8.1 in /usr/local/lib/python3.10/dist-packages (from pandas) (2.8.2)\n",
            "Requirement already satisfied: pytz>=2020.1 in /usr/local/lib/python3.10/dist-packages (from pandas) (2022.7.1)\n",
            "Requirement already satisfied: numpy>=1.21.0 in /usr/local/lib/python3.10/dist-packages (from pandas) (1.22.4)\n",
            "Requirement already satisfied: six>=1.5 in /usr/local/lib/python3.10/dist-packages (from python-dateutil>=2.8.1->pandas) (1.16.0)\n"
          ]
        }
      ],
      "source": [
        "pip install requests pandas\n"
      ]
    },
    {
      "cell_type": "code",
      "source": [
        "import requests\n",
        "import pandas as pd\n",
        "import matplotlib.pyplot as plt\n"
      ],
      "metadata": {
        "id": "_ymRlRlTA0lb"
      },
      "execution_count": null,
      "outputs": []
    },
    {
      "cell_type": "code",
      "source": [
        "def fetch_pokemon_species(pokemon_id_or_name):\n",
        "    url = f\"https://pokeapi.co/api/v2/pokemon-species/{pokemon_id_or_name}/\"\n",
        "    response = requests.get(url)\n",
        "\n",
        "    if response.status_code == 200:\n",
        "        return response.json()\n",
        "pokemon_data_list = []\n",
        "for pokemon_id in range(1, 501):\n",
        "    pokemon_data = fetch_pokemon_species(pokemon_id)\n",
        "    if pokemon_data:\n",
        "        pokemon_data_list.append(pokemon_data)\n"
      ],
      "metadata": {
        "id": "HDYqgMW80BOO"
      },
      "execution_count": null,
      "outputs": []
    },
    {
      "cell_type": "code",
      "source": [
        "data_dict = {\n",
        "    \"id\": [data[\"id\"] for data in pokemon_data_list],\n",
        "    \"name\": [data[\"name\"] for data in pokemon_data_list],\n",
        "    \"base_happiness\": [data[\"base_happiness\"] for data in pokemon_data_list],\n",
        "    \"capture_rate\": [data[\"capture_rate\"] for data in pokemon_data_list],\n",
        "    \"forms_switchable\": [data[\"forms_switchable\"] for data in pokemon_data_list],\n",
        "    \"gender_rate\": [data[\"gender_rate\"] for data in pokemon_data_list],\n",
        "    \"habitat_name\": [data[\"habitat\"][\"name\"] if data.get(\"habitat\") else None for data in pokemon_data_list],\n",
        "    \"has_gender_differences\": [data[\"has_gender_differences\"] for data in pokemon_data_list],\n",
        "    \"hatch_counter\": [data[\"hatch_counter\"] for data in pokemon_data_list],\n",
        "    \"is_baby\": [data[\"is_baby\"] for data in pokemon_data_list],\n",
        "    \"is_legendary\": [data[\"is_legendary\"] for data in pokemon_data_list],\n",
        "    \"is_mythical\": [data[\"is_mythical\"] for data in pokemon_data_list],\n",
        "    \"shape_name\": [data[\"shape\"][\"name\"] if data.get(\"shape\") else None for data in pokemon_data_list],\n",
        "    \"growth_rate\": [data[\"growth_rate\"][\"name\"] if data.get(\"growth_rate\") else None for data in pokemon_data_list]\n",
        "}\n",
        "\n",
        "df = pd.DataFrame(data_dict)\n"
      ],
      "metadata": {
        "id": "tEayCqG-A36v"
      },
      "execution_count": null,
      "outputs": []
    },
    {
      "cell_type": "code",
      "source": [
        "df"
      ],
      "metadata": {
        "colab": {
          "base_uri": "https://localhost:8080/",
          "height": 424
        },
        "id": "gFxvCXCOA56l",
        "outputId": "4fe1af9a-5cb5-4ea0-ee22-7442e34b526a"
      },
      "execution_count": null,
      "outputs": [
        {
          "output_type": "execute_result",
          "data": {
            "text/plain": [
              "      id        name  base_happiness  capture_rate  forms_switchable  \\\n",
              "0      1   bulbasaur              50            45             False   \n",
              "1      2     ivysaur              50            45             False   \n",
              "2      3    venusaur              50            45              True   \n",
              "3      4  charmander              50            45             False   \n",
              "4      5  charmeleon              50            45             False   \n",
              "..   ...         ...             ...           ...               ...   \n",
              "495  496     servine              70            45             False   \n",
              "496  497   serperior              70            45             False   \n",
              "497  498       tepig              70            45             False   \n",
              "498  499     pignite              70            45             False   \n",
              "499  500      emboar              70            45             False   \n",
              "\n",
              "     gender_rate habitat_name  has_gender_differences  hatch_counter  is_baby  \\\n",
              "0              1    grassland                   False             20    False   \n",
              "1              1    grassland                   False             20    False   \n",
              "2              1    grassland                    True             20    False   \n",
              "3              1     mountain                   False             20    False   \n",
              "4              1     mountain                   False             20    False   \n",
              "..           ...          ...                     ...            ...      ...   \n",
              "495            1         None                   False             20    False   \n",
              "496            1         None                   False             20    False   \n",
              "497            1         None                   False             20    False   \n",
              "498            1         None                   False             20    False   \n",
              "499            1         None                   False             20    False   \n",
              "\n",
              "     is_legendary  is_mythical shape_name  growth_rate  \n",
              "0           False        False  quadruped  medium-slow  \n",
              "1           False        False  quadruped  medium-slow  \n",
              "2           False        False  quadruped  medium-slow  \n",
              "3           False        False    upright  medium-slow  \n",
              "4           False        False    upright  medium-slow  \n",
              "..            ...          ...        ...          ...  \n",
              "495         False        False    upright  medium-slow  \n",
              "496         False        False   squiggle  medium-slow  \n",
              "497         False        False  quadruped  medium-slow  \n",
              "498         False        False    upright  medium-slow  \n",
              "499         False        False    upright  medium-slow  \n",
              "\n",
              "[500 rows x 14 columns]"
            ],
            "text/html": [
              "\n",
              "\n",
              "  <div id=\"df-fa37fe55-2739-43c8-bd14-72cf32a995ee\">\n",
              "    <div class=\"colab-df-container\">\n",
              "      <div>\n",
              "<style scoped>\n",
              "    .dataframe tbody tr th:only-of-type {\n",
              "        vertical-align: middle;\n",
              "    }\n",
              "\n",
              "    .dataframe tbody tr th {\n",
              "        vertical-align: top;\n",
              "    }\n",
              "\n",
              "    .dataframe thead th {\n",
              "        text-align: right;\n",
              "    }\n",
              "</style>\n",
              "<table border=\"1\" class=\"dataframe\">\n",
              "  <thead>\n",
              "    <tr style=\"text-align: right;\">\n",
              "      <th></th>\n",
              "      <th>id</th>\n",
              "      <th>name</th>\n",
              "      <th>base_happiness</th>\n",
              "      <th>capture_rate</th>\n",
              "      <th>forms_switchable</th>\n",
              "      <th>gender_rate</th>\n",
              "      <th>habitat_name</th>\n",
              "      <th>has_gender_differences</th>\n",
              "      <th>hatch_counter</th>\n",
              "      <th>is_baby</th>\n",
              "      <th>is_legendary</th>\n",
              "      <th>is_mythical</th>\n",
              "      <th>shape_name</th>\n",
              "      <th>growth_rate</th>\n",
              "    </tr>\n",
              "  </thead>\n",
              "  <tbody>\n",
              "    <tr>\n",
              "      <th>0</th>\n",
              "      <td>1</td>\n",
              "      <td>bulbasaur</td>\n",
              "      <td>50</td>\n",
              "      <td>45</td>\n",
              "      <td>False</td>\n",
              "      <td>1</td>\n",
              "      <td>grassland</td>\n",
              "      <td>False</td>\n",
              "      <td>20</td>\n",
              "      <td>False</td>\n",
              "      <td>False</td>\n",
              "      <td>False</td>\n",
              "      <td>quadruped</td>\n",
              "      <td>medium-slow</td>\n",
              "    </tr>\n",
              "    <tr>\n",
              "      <th>1</th>\n",
              "      <td>2</td>\n",
              "      <td>ivysaur</td>\n",
              "      <td>50</td>\n",
              "      <td>45</td>\n",
              "      <td>False</td>\n",
              "      <td>1</td>\n",
              "      <td>grassland</td>\n",
              "      <td>False</td>\n",
              "      <td>20</td>\n",
              "      <td>False</td>\n",
              "      <td>False</td>\n",
              "      <td>False</td>\n",
              "      <td>quadruped</td>\n",
              "      <td>medium-slow</td>\n",
              "    </tr>\n",
              "    <tr>\n",
              "      <th>2</th>\n",
              "      <td>3</td>\n",
              "      <td>venusaur</td>\n",
              "      <td>50</td>\n",
              "      <td>45</td>\n",
              "      <td>True</td>\n",
              "      <td>1</td>\n",
              "      <td>grassland</td>\n",
              "      <td>True</td>\n",
              "      <td>20</td>\n",
              "      <td>False</td>\n",
              "      <td>False</td>\n",
              "      <td>False</td>\n",
              "      <td>quadruped</td>\n",
              "      <td>medium-slow</td>\n",
              "    </tr>\n",
              "    <tr>\n",
              "      <th>3</th>\n",
              "      <td>4</td>\n",
              "      <td>charmander</td>\n",
              "      <td>50</td>\n",
              "      <td>45</td>\n",
              "      <td>False</td>\n",
              "      <td>1</td>\n",
              "      <td>mountain</td>\n",
              "      <td>False</td>\n",
              "      <td>20</td>\n",
              "      <td>False</td>\n",
              "      <td>False</td>\n",
              "      <td>False</td>\n",
              "      <td>upright</td>\n",
              "      <td>medium-slow</td>\n",
              "    </tr>\n",
              "    <tr>\n",
              "      <th>4</th>\n",
              "      <td>5</td>\n",
              "      <td>charmeleon</td>\n",
              "      <td>50</td>\n",
              "      <td>45</td>\n",
              "      <td>False</td>\n",
              "      <td>1</td>\n",
              "      <td>mountain</td>\n",
              "      <td>False</td>\n",
              "      <td>20</td>\n",
              "      <td>False</td>\n",
              "      <td>False</td>\n",
              "      <td>False</td>\n",
              "      <td>upright</td>\n",
              "      <td>medium-slow</td>\n",
              "    </tr>\n",
              "    <tr>\n",
              "      <th>...</th>\n",
              "      <td>...</td>\n",
              "      <td>...</td>\n",
              "      <td>...</td>\n",
              "      <td>...</td>\n",
              "      <td>...</td>\n",
              "      <td>...</td>\n",
              "      <td>...</td>\n",
              "      <td>...</td>\n",
              "      <td>...</td>\n",
              "      <td>...</td>\n",
              "      <td>...</td>\n",
              "      <td>...</td>\n",
              "      <td>...</td>\n",
              "      <td>...</td>\n",
              "    </tr>\n",
              "    <tr>\n",
              "      <th>495</th>\n",
              "      <td>496</td>\n",
              "      <td>servine</td>\n",
              "      <td>70</td>\n",
              "      <td>45</td>\n",
              "      <td>False</td>\n",
              "      <td>1</td>\n",
              "      <td>None</td>\n",
              "      <td>False</td>\n",
              "      <td>20</td>\n",
              "      <td>False</td>\n",
              "      <td>False</td>\n",
              "      <td>False</td>\n",
              "      <td>upright</td>\n",
              "      <td>medium-slow</td>\n",
              "    </tr>\n",
              "    <tr>\n",
              "      <th>496</th>\n",
              "      <td>497</td>\n",
              "      <td>serperior</td>\n",
              "      <td>70</td>\n",
              "      <td>45</td>\n",
              "      <td>False</td>\n",
              "      <td>1</td>\n",
              "      <td>None</td>\n",
              "      <td>False</td>\n",
              "      <td>20</td>\n",
              "      <td>False</td>\n",
              "      <td>False</td>\n",
              "      <td>False</td>\n",
              "      <td>squiggle</td>\n",
              "      <td>medium-slow</td>\n",
              "    </tr>\n",
              "    <tr>\n",
              "      <th>497</th>\n",
              "      <td>498</td>\n",
              "      <td>tepig</td>\n",
              "      <td>70</td>\n",
              "      <td>45</td>\n",
              "      <td>False</td>\n",
              "      <td>1</td>\n",
              "      <td>None</td>\n",
              "      <td>False</td>\n",
              "      <td>20</td>\n",
              "      <td>False</td>\n",
              "      <td>False</td>\n",
              "      <td>False</td>\n",
              "      <td>quadruped</td>\n",
              "      <td>medium-slow</td>\n",
              "    </tr>\n",
              "    <tr>\n",
              "      <th>498</th>\n",
              "      <td>499</td>\n",
              "      <td>pignite</td>\n",
              "      <td>70</td>\n",
              "      <td>45</td>\n",
              "      <td>False</td>\n",
              "      <td>1</td>\n",
              "      <td>None</td>\n",
              "      <td>False</td>\n",
              "      <td>20</td>\n",
              "      <td>False</td>\n",
              "      <td>False</td>\n",
              "      <td>False</td>\n",
              "      <td>upright</td>\n",
              "      <td>medium-slow</td>\n",
              "    </tr>\n",
              "    <tr>\n",
              "      <th>499</th>\n",
              "      <td>500</td>\n",
              "      <td>emboar</td>\n",
              "      <td>70</td>\n",
              "      <td>45</td>\n",
              "      <td>False</td>\n",
              "      <td>1</td>\n",
              "      <td>None</td>\n",
              "      <td>False</td>\n",
              "      <td>20</td>\n",
              "      <td>False</td>\n",
              "      <td>False</td>\n",
              "      <td>False</td>\n",
              "      <td>upright</td>\n",
              "      <td>medium-slow</td>\n",
              "    </tr>\n",
              "  </tbody>\n",
              "</table>\n",
              "<p>500 rows × 14 columns</p>\n",
              "</div>\n",
              "      <button class=\"colab-df-convert\" onclick=\"convertToInteractive('df-fa37fe55-2739-43c8-bd14-72cf32a995ee')\"\n",
              "              title=\"Convert this dataframe to an interactive table.\"\n",
              "              style=\"display:none;\">\n",
              "\n",
              "  <svg xmlns=\"http://www.w3.org/2000/svg\" height=\"24px\"viewBox=\"0 0 24 24\"\n",
              "       width=\"24px\">\n",
              "    <path d=\"M0 0h24v24H0V0z\" fill=\"none\"/>\n",
              "    <path d=\"M18.56 5.44l.94 2.06.94-2.06 2.06-.94-2.06-.94-.94-2.06-.94 2.06-2.06.94zm-11 1L8.5 8.5l.94-2.06 2.06-.94-2.06-.94L8.5 2.5l-.94 2.06-2.06.94zm10 10l.94 2.06.94-2.06 2.06-.94-2.06-.94-.94-2.06-.94 2.06-2.06.94z\"/><path d=\"M17.41 7.96l-1.37-1.37c-.4-.4-.92-.59-1.43-.59-.52 0-1.04.2-1.43.59L10.3 9.45l-7.72 7.72c-.78.78-.78 2.05 0 2.83L4 21.41c.39.39.9.59 1.41.59.51 0 1.02-.2 1.41-.59l7.78-7.78 2.81-2.81c.8-.78.8-2.07 0-2.86zM5.41 20L4 18.59l7.72-7.72 1.47 1.35L5.41 20z\"/>\n",
              "  </svg>\n",
              "      </button>\n",
              "\n",
              "\n",
              "\n",
              "    <div id=\"df-e1e6e0ae-2aaf-4048-b952-c4ce9bded977\">\n",
              "      <button class=\"colab-df-quickchart\" onclick=\"quickchart('df-e1e6e0ae-2aaf-4048-b952-c4ce9bded977')\"\n",
              "              title=\"Suggest charts.\"\n",
              "              style=\"display:none;\">\n",
              "\n",
              "<svg xmlns=\"http://www.w3.org/2000/svg\" height=\"24px\"viewBox=\"0 0 24 24\"\n",
              "     width=\"24px\">\n",
              "    <g>\n",
              "        <path d=\"M19 3H5c-1.1 0-2 .9-2 2v14c0 1.1.9 2 2 2h14c1.1 0 2-.9 2-2V5c0-1.1-.9-2-2-2zM9 17H7v-7h2v7zm4 0h-2V7h2v10zm4 0h-2v-4h2v4z\"/>\n",
              "    </g>\n",
              "</svg>\n",
              "      </button>\n",
              "    </div>\n",
              "\n",
              "<style>\n",
              "  .colab-df-quickchart {\n",
              "    background-color: #E8F0FE;\n",
              "    border: none;\n",
              "    border-radius: 50%;\n",
              "    cursor: pointer;\n",
              "    display: none;\n",
              "    fill: #1967D2;\n",
              "    height: 32px;\n",
              "    padding: 0 0 0 0;\n",
              "    width: 32px;\n",
              "  }\n",
              "\n",
              "  .colab-df-quickchart:hover {\n",
              "    background-color: #E2EBFA;\n",
              "    box-shadow: 0px 1px 2px rgba(60, 64, 67, 0.3), 0px 1px 3px 1px rgba(60, 64, 67, 0.15);\n",
              "    fill: #174EA6;\n",
              "  }\n",
              "\n",
              "  [theme=dark] .colab-df-quickchart {\n",
              "    background-color: #3B4455;\n",
              "    fill: #D2E3FC;\n",
              "  }\n",
              "\n",
              "  [theme=dark] .colab-df-quickchart:hover {\n",
              "    background-color: #434B5C;\n",
              "    box-shadow: 0px 1px 3px 1px rgba(0, 0, 0, 0.15);\n",
              "    filter: drop-shadow(0px 1px 2px rgba(0, 0, 0, 0.3));\n",
              "    fill: #FFFFFF;\n",
              "  }\n",
              "</style>\n",
              "\n",
              "    <script>\n",
              "      async function quickchart(key) {\n",
              "        const containerElement = document.querySelector('#' + key);\n",
              "        const charts = await google.colab.kernel.invokeFunction(\n",
              "            'suggestCharts', [key], {});\n",
              "      }\n",
              "    </script>\n",
              "\n",
              "      <script>\n",
              "\n",
              "function displayQuickchartButton(domScope) {\n",
              "  let quickchartButtonEl =\n",
              "    domScope.querySelector('#df-e1e6e0ae-2aaf-4048-b952-c4ce9bded977 button.colab-df-quickchart');\n",
              "  quickchartButtonEl.style.display =\n",
              "    google.colab.kernel.accessAllowed ? 'block' : 'none';\n",
              "}\n",
              "\n",
              "        displayQuickchartButton(document);\n",
              "      </script>\n",
              "      <style>\n",
              "    .colab-df-container {\n",
              "      display:flex;\n",
              "      flex-wrap:wrap;\n",
              "      gap: 12px;\n",
              "    }\n",
              "\n",
              "    .colab-df-convert {\n",
              "      background-color: #E8F0FE;\n",
              "      border: none;\n",
              "      border-radius: 50%;\n",
              "      cursor: pointer;\n",
              "      display: none;\n",
              "      fill: #1967D2;\n",
              "      height: 32px;\n",
              "      padding: 0 0 0 0;\n",
              "      width: 32px;\n",
              "    }\n",
              "\n",
              "    .colab-df-convert:hover {\n",
              "      background-color: #E2EBFA;\n",
              "      box-shadow: 0px 1px 2px rgba(60, 64, 67, 0.3), 0px 1px 3px 1px rgba(60, 64, 67, 0.15);\n",
              "      fill: #174EA6;\n",
              "    }\n",
              "\n",
              "    [theme=dark] .colab-df-convert {\n",
              "      background-color: #3B4455;\n",
              "      fill: #D2E3FC;\n",
              "    }\n",
              "\n",
              "    [theme=dark] .colab-df-convert:hover {\n",
              "      background-color: #434B5C;\n",
              "      box-shadow: 0px 1px 3px 1px rgba(0, 0, 0, 0.15);\n",
              "      filter: drop-shadow(0px 1px 2px rgba(0, 0, 0, 0.3));\n",
              "      fill: #FFFFFF;\n",
              "    }\n",
              "  </style>\n",
              "\n",
              "      <script>\n",
              "        const buttonEl =\n",
              "          document.querySelector('#df-fa37fe55-2739-43c8-bd14-72cf32a995ee button.colab-df-convert');\n",
              "        buttonEl.style.display =\n",
              "          google.colab.kernel.accessAllowed ? 'block' : 'none';\n",
              "\n",
              "        async function convertToInteractive(key) {\n",
              "          const element = document.querySelector('#df-fa37fe55-2739-43c8-bd14-72cf32a995ee');\n",
              "          const dataTable =\n",
              "            await google.colab.kernel.invokeFunction('convertToInteractive',\n",
              "                                                     [key], {});\n",
              "          if (!dataTable) return;\n",
              "\n",
              "          const docLinkHtml = 'Like what you see? Visit the ' +\n",
              "            '<a target=\"_blank\" href=https://colab.research.google.com/notebooks/data_table.ipynb>data table notebook</a>'\n",
              "            + ' to learn more about interactive tables.';\n",
              "          element.innerHTML = '';\n",
              "          dataTable['output_type'] = 'display_data';\n",
              "          await google.colab.output.renderOutput(dataTable, element);\n",
              "          const docLink = document.createElement('div');\n",
              "          docLink.innerHTML = docLinkHtml;\n",
              "          element.appendChild(docLink);\n",
              "        }\n",
              "      </script>\n",
              "    </div>\n",
              "  </div>\n"
            ]
          },
          "metadata": {},
          "execution_count": 68
        }
      ]
    },
    {
      "cell_type": "markdown",
      "source": [
        "#Task #1"
      ],
      "metadata": {
        "id": "1My5dZ6MdK07"
      }
    },
    {
      "cell_type": "code",
      "source": [
        "pokemon = df.nlargest(10, 'base_happiness')\n",
        "pokemon['name']"
      ],
      "metadata": {
        "colab": {
          "base_uri": "https://localhost:8080/"
        },
        "id": "gsFv843aBY24",
        "outputId": "2bc1adfe-f7f3-4654-bb6b-9cd24b4660c2"
      },
      "execution_count": null,
      "outputs": [
        {
          "output_type": "execute_result",
          "data": {
            "text/plain": [
              "34     clefairy\n",
              "35     clefable\n",
              "112     chansey\n",
              "172      cleffa\n",
              "241     blissey\n",
              "427     lopunny\n",
              "439     happiny\n",
              "479        uxie\n",
              "480     mesprit\n",
              "481       azelf\n",
              "Name: name, dtype: object"
            ]
          },
          "metadata": {},
          "execution_count": 69
        }
      ]
    },
    {
      "cell_type": "markdown",
      "source": [
        "Top 10 :  clefairy, clefable, chansey, cleffa, blissey, lopunny, happiny, uxie,mesprit, and azelf"
      ],
      "metadata": {
        "id": "Zt2QV0FgdSiU"
      }
    },
    {
      "cell_type": "markdown",
      "source": [
        "#Task #2 and #3"
      ],
      "metadata": {
        "id": "NNLw32eNdshF"
      }
    },
    {
      "cell_type": "code",
      "source": [
        "df.corr()"
      ],
      "metadata": {
        "colab": {
          "base_uri": "https://localhost:8080/",
          "height": 418
        },
        "id": "YHwX17EYZPuk",
        "outputId": "4587145f-a14c-46fc-e081-fea7b5131940"
      },
      "execution_count": null,
      "outputs": [
        {
          "output_type": "stream",
          "name": "stderr",
          "text": [
            "<ipython-input-70-2f6f6606aa2c>:1: FutureWarning: The default value of numeric_only in DataFrame.corr is deprecated. In a future version, it will default to False. Select only valid columns or specify the value of numeric_only to silence this warning.\n",
            "  df.corr()\n"
          ]
        },
        {
          "output_type": "execute_result",
          "data": {
            "text/plain": [
              "                              id  base_happiness  capture_rate  \\\n",
              "id                      1.000000        0.002650     -0.171285   \n",
              "base_happiness          0.002650        1.000000      0.118642   \n",
              "capture_rate           -0.171285        0.118642      1.000000   \n",
              "forms_switchable        0.079822       -0.163199     -0.247369   \n",
              "gender_rate            -0.138053        0.224616      0.331989   \n",
              "has_gender_differences  0.047523        0.040445      0.003387   \n",
              "hatch_counter           0.248379       -0.213831     -0.371695   \n",
              "is_baby                 0.096918        0.044170      0.065179   \n",
              "is_legendary            0.168691       -0.159451     -0.285516   \n",
              "is_mythical             0.160042        0.053244     -0.148763   \n",
              "\n",
              "                        forms_switchable  gender_rate  has_gender_differences  \\\n",
              "id                              0.079822    -0.138053                0.047523   \n",
              "base_happiness                 -0.163199     0.224616                0.040445   \n",
              "capture_rate                   -0.247369     0.331989                0.003387   \n",
              "forms_switchable                1.000000    -0.077325                0.032392   \n",
              "gender_rate                    -0.077325     1.000000                0.155904   \n",
              "has_gender_differences          0.032392     0.155904                1.000000   \n",
              "hatch_counter                   0.220610    -0.449167               -0.152621   \n",
              "is_baby                        -0.067242     0.072534               -0.092376   \n",
              "is_legendary                    0.121661    -0.353164               -0.111955   \n",
              "is_mythical                     0.088371    -0.278928               -0.068288   \n",
              "\n",
              "                        hatch_counter   is_baby  is_legendary  is_mythical  \n",
              "id                           0.248379  0.096918      0.168691     0.160042  \n",
              "base_happiness              -0.213831  0.044170     -0.159451     0.053244  \n",
              "capture_rate                -0.371695  0.065179     -0.285516    -0.148763  \n",
              "forms_switchable             0.220610 -0.067242      0.121661     0.088371  \n",
              "gender_rate                 -0.449167  0.072534     -0.353164    -0.278928  \n",
              "has_gender_differences      -0.152621 -0.092376     -0.111955    -0.068288  \n",
              "hatch_counter                1.000000 -0.042698      0.738483     0.473977  \n",
              "is_baby                     -0.042698  1.000000     -0.045260    -0.027607  \n",
              "is_legendary                 0.738483 -0.045260      1.000000    -0.033458  \n",
              "is_mythical                  0.473977 -0.027607     -0.033458     1.000000  "
            ],
            "text/html": [
              "\n",
              "\n",
              "  <div id=\"df-424a1ca2-832e-4ad8-86ce-15ad997e5d79\">\n",
              "    <div class=\"colab-df-container\">\n",
              "      <div>\n",
              "<style scoped>\n",
              "    .dataframe tbody tr th:only-of-type {\n",
              "        vertical-align: middle;\n",
              "    }\n",
              "\n",
              "    .dataframe tbody tr th {\n",
              "        vertical-align: top;\n",
              "    }\n",
              "\n",
              "    .dataframe thead th {\n",
              "        text-align: right;\n",
              "    }\n",
              "</style>\n",
              "<table border=\"1\" class=\"dataframe\">\n",
              "  <thead>\n",
              "    <tr style=\"text-align: right;\">\n",
              "      <th></th>\n",
              "      <th>id</th>\n",
              "      <th>base_happiness</th>\n",
              "      <th>capture_rate</th>\n",
              "      <th>forms_switchable</th>\n",
              "      <th>gender_rate</th>\n",
              "      <th>has_gender_differences</th>\n",
              "      <th>hatch_counter</th>\n",
              "      <th>is_baby</th>\n",
              "      <th>is_legendary</th>\n",
              "      <th>is_mythical</th>\n",
              "    </tr>\n",
              "  </thead>\n",
              "  <tbody>\n",
              "    <tr>\n",
              "      <th>id</th>\n",
              "      <td>1.000000</td>\n",
              "      <td>0.002650</td>\n",
              "      <td>-0.171285</td>\n",
              "      <td>0.079822</td>\n",
              "      <td>-0.138053</td>\n",
              "      <td>0.047523</td>\n",
              "      <td>0.248379</td>\n",
              "      <td>0.096918</td>\n",
              "      <td>0.168691</td>\n",
              "      <td>0.160042</td>\n",
              "    </tr>\n",
              "    <tr>\n",
              "      <th>base_happiness</th>\n",
              "      <td>0.002650</td>\n",
              "      <td>1.000000</td>\n",
              "      <td>0.118642</td>\n",
              "      <td>-0.163199</td>\n",
              "      <td>0.224616</td>\n",
              "      <td>0.040445</td>\n",
              "      <td>-0.213831</td>\n",
              "      <td>0.044170</td>\n",
              "      <td>-0.159451</td>\n",
              "      <td>0.053244</td>\n",
              "    </tr>\n",
              "    <tr>\n",
              "      <th>capture_rate</th>\n",
              "      <td>-0.171285</td>\n",
              "      <td>0.118642</td>\n",
              "      <td>1.000000</td>\n",
              "      <td>-0.247369</td>\n",
              "      <td>0.331989</td>\n",
              "      <td>0.003387</td>\n",
              "      <td>-0.371695</td>\n",
              "      <td>0.065179</td>\n",
              "      <td>-0.285516</td>\n",
              "      <td>-0.148763</td>\n",
              "    </tr>\n",
              "    <tr>\n",
              "      <th>forms_switchable</th>\n",
              "      <td>0.079822</td>\n",
              "      <td>-0.163199</td>\n",
              "      <td>-0.247369</td>\n",
              "      <td>1.000000</td>\n",
              "      <td>-0.077325</td>\n",
              "      <td>0.032392</td>\n",
              "      <td>0.220610</td>\n",
              "      <td>-0.067242</td>\n",
              "      <td>0.121661</td>\n",
              "      <td>0.088371</td>\n",
              "    </tr>\n",
              "    <tr>\n",
              "      <th>gender_rate</th>\n",
              "      <td>-0.138053</td>\n",
              "      <td>0.224616</td>\n",
              "      <td>0.331989</td>\n",
              "      <td>-0.077325</td>\n",
              "      <td>1.000000</td>\n",
              "      <td>0.155904</td>\n",
              "      <td>-0.449167</td>\n",
              "      <td>0.072534</td>\n",
              "      <td>-0.353164</td>\n",
              "      <td>-0.278928</td>\n",
              "    </tr>\n",
              "    <tr>\n",
              "      <th>has_gender_differences</th>\n",
              "      <td>0.047523</td>\n",
              "      <td>0.040445</td>\n",
              "      <td>0.003387</td>\n",
              "      <td>0.032392</td>\n",
              "      <td>0.155904</td>\n",
              "      <td>1.000000</td>\n",
              "      <td>-0.152621</td>\n",
              "      <td>-0.092376</td>\n",
              "      <td>-0.111955</td>\n",
              "      <td>-0.068288</td>\n",
              "    </tr>\n",
              "    <tr>\n",
              "      <th>hatch_counter</th>\n",
              "      <td>0.248379</td>\n",
              "      <td>-0.213831</td>\n",
              "      <td>-0.371695</td>\n",
              "      <td>0.220610</td>\n",
              "      <td>-0.449167</td>\n",
              "      <td>-0.152621</td>\n",
              "      <td>1.000000</td>\n",
              "      <td>-0.042698</td>\n",
              "      <td>0.738483</td>\n",
              "      <td>0.473977</td>\n",
              "    </tr>\n",
              "    <tr>\n",
              "      <th>is_baby</th>\n",
              "      <td>0.096918</td>\n",
              "      <td>0.044170</td>\n",
              "      <td>0.065179</td>\n",
              "      <td>-0.067242</td>\n",
              "      <td>0.072534</td>\n",
              "      <td>-0.092376</td>\n",
              "      <td>-0.042698</td>\n",
              "      <td>1.000000</td>\n",
              "      <td>-0.045260</td>\n",
              "      <td>-0.027607</td>\n",
              "    </tr>\n",
              "    <tr>\n",
              "      <th>is_legendary</th>\n",
              "      <td>0.168691</td>\n",
              "      <td>-0.159451</td>\n",
              "      <td>-0.285516</td>\n",
              "      <td>0.121661</td>\n",
              "      <td>-0.353164</td>\n",
              "      <td>-0.111955</td>\n",
              "      <td>0.738483</td>\n",
              "      <td>-0.045260</td>\n",
              "      <td>1.000000</td>\n",
              "      <td>-0.033458</td>\n",
              "    </tr>\n",
              "    <tr>\n",
              "      <th>is_mythical</th>\n",
              "      <td>0.160042</td>\n",
              "      <td>0.053244</td>\n",
              "      <td>-0.148763</td>\n",
              "      <td>0.088371</td>\n",
              "      <td>-0.278928</td>\n",
              "      <td>-0.068288</td>\n",
              "      <td>0.473977</td>\n",
              "      <td>-0.027607</td>\n",
              "      <td>-0.033458</td>\n",
              "      <td>1.000000</td>\n",
              "    </tr>\n",
              "  </tbody>\n",
              "</table>\n",
              "</div>\n",
              "      <button class=\"colab-df-convert\" onclick=\"convertToInteractive('df-424a1ca2-832e-4ad8-86ce-15ad997e5d79')\"\n",
              "              title=\"Convert this dataframe to an interactive table.\"\n",
              "              style=\"display:none;\">\n",
              "\n",
              "  <svg xmlns=\"http://www.w3.org/2000/svg\" height=\"24px\"viewBox=\"0 0 24 24\"\n",
              "       width=\"24px\">\n",
              "    <path d=\"M0 0h24v24H0V0z\" fill=\"none\"/>\n",
              "    <path d=\"M18.56 5.44l.94 2.06.94-2.06 2.06-.94-2.06-.94-.94-2.06-.94 2.06-2.06.94zm-11 1L8.5 8.5l.94-2.06 2.06-.94-2.06-.94L8.5 2.5l-.94 2.06-2.06.94zm10 10l.94 2.06.94-2.06 2.06-.94-2.06-.94-.94-2.06-.94 2.06-2.06.94z\"/><path d=\"M17.41 7.96l-1.37-1.37c-.4-.4-.92-.59-1.43-.59-.52 0-1.04.2-1.43.59L10.3 9.45l-7.72 7.72c-.78.78-.78 2.05 0 2.83L4 21.41c.39.39.9.59 1.41.59.51 0 1.02-.2 1.41-.59l7.78-7.78 2.81-2.81c.8-.78.8-2.07 0-2.86zM5.41 20L4 18.59l7.72-7.72 1.47 1.35L5.41 20z\"/>\n",
              "  </svg>\n",
              "      </button>\n",
              "\n",
              "\n",
              "\n",
              "    <div id=\"df-f07d302b-2260-423c-9623-d42b5193b375\">\n",
              "      <button class=\"colab-df-quickchart\" onclick=\"quickchart('df-f07d302b-2260-423c-9623-d42b5193b375')\"\n",
              "              title=\"Suggest charts.\"\n",
              "              style=\"display:none;\">\n",
              "\n",
              "<svg xmlns=\"http://www.w3.org/2000/svg\" height=\"24px\"viewBox=\"0 0 24 24\"\n",
              "     width=\"24px\">\n",
              "    <g>\n",
              "        <path d=\"M19 3H5c-1.1 0-2 .9-2 2v14c0 1.1.9 2 2 2h14c1.1 0 2-.9 2-2V5c0-1.1-.9-2-2-2zM9 17H7v-7h2v7zm4 0h-2V7h2v10zm4 0h-2v-4h2v4z\"/>\n",
              "    </g>\n",
              "</svg>\n",
              "      </button>\n",
              "    </div>\n",
              "\n",
              "<style>\n",
              "  .colab-df-quickchart {\n",
              "    background-color: #E8F0FE;\n",
              "    border: none;\n",
              "    border-radius: 50%;\n",
              "    cursor: pointer;\n",
              "    display: none;\n",
              "    fill: #1967D2;\n",
              "    height: 32px;\n",
              "    padding: 0 0 0 0;\n",
              "    width: 32px;\n",
              "  }\n",
              "\n",
              "  .colab-df-quickchart:hover {\n",
              "    background-color: #E2EBFA;\n",
              "    box-shadow: 0px 1px 2px rgba(60, 64, 67, 0.3), 0px 1px 3px 1px rgba(60, 64, 67, 0.15);\n",
              "    fill: #174EA6;\n",
              "  }\n",
              "\n",
              "  [theme=dark] .colab-df-quickchart {\n",
              "    background-color: #3B4455;\n",
              "    fill: #D2E3FC;\n",
              "  }\n",
              "\n",
              "  [theme=dark] .colab-df-quickchart:hover {\n",
              "    background-color: #434B5C;\n",
              "    box-shadow: 0px 1px 3px 1px rgba(0, 0, 0, 0.15);\n",
              "    filter: drop-shadow(0px 1px 2px rgba(0, 0, 0, 0.3));\n",
              "    fill: #FFFFFF;\n",
              "  }\n",
              "</style>\n",
              "\n",
              "    <script>\n",
              "      async function quickchart(key) {\n",
              "        const containerElement = document.querySelector('#' + key);\n",
              "        const charts = await google.colab.kernel.invokeFunction(\n",
              "            'suggestCharts', [key], {});\n",
              "      }\n",
              "    </script>\n",
              "\n",
              "      <script>\n",
              "\n",
              "function displayQuickchartButton(domScope) {\n",
              "  let quickchartButtonEl =\n",
              "    domScope.querySelector('#df-f07d302b-2260-423c-9623-d42b5193b375 button.colab-df-quickchart');\n",
              "  quickchartButtonEl.style.display =\n",
              "    google.colab.kernel.accessAllowed ? 'block' : 'none';\n",
              "}\n",
              "\n",
              "        displayQuickchartButton(document);\n",
              "      </script>\n",
              "      <style>\n",
              "    .colab-df-container {\n",
              "      display:flex;\n",
              "      flex-wrap:wrap;\n",
              "      gap: 12px;\n",
              "    }\n",
              "\n",
              "    .colab-df-convert {\n",
              "      background-color: #E8F0FE;\n",
              "      border: none;\n",
              "      border-radius: 50%;\n",
              "      cursor: pointer;\n",
              "      display: none;\n",
              "      fill: #1967D2;\n",
              "      height: 32px;\n",
              "      padding: 0 0 0 0;\n",
              "      width: 32px;\n",
              "    }\n",
              "\n",
              "    .colab-df-convert:hover {\n",
              "      background-color: #E2EBFA;\n",
              "      box-shadow: 0px 1px 2px rgba(60, 64, 67, 0.3), 0px 1px 3px 1px rgba(60, 64, 67, 0.15);\n",
              "      fill: #174EA6;\n",
              "    }\n",
              "\n",
              "    [theme=dark] .colab-df-convert {\n",
              "      background-color: #3B4455;\n",
              "      fill: #D2E3FC;\n",
              "    }\n",
              "\n",
              "    [theme=dark] .colab-df-convert:hover {\n",
              "      background-color: #434B5C;\n",
              "      box-shadow: 0px 1px 3px 1px rgba(0, 0, 0, 0.15);\n",
              "      filter: drop-shadow(0px 1px 2px rgba(0, 0, 0, 0.3));\n",
              "      fill: #FFFFFF;\n",
              "    }\n",
              "  </style>\n",
              "\n",
              "      <script>\n",
              "        const buttonEl =\n",
              "          document.querySelector('#df-424a1ca2-832e-4ad8-86ce-15ad997e5d79 button.colab-df-convert');\n",
              "        buttonEl.style.display =\n",
              "          google.colab.kernel.accessAllowed ? 'block' : 'none';\n",
              "\n",
              "        async function convertToInteractive(key) {\n",
              "          const element = document.querySelector('#df-424a1ca2-832e-4ad8-86ce-15ad997e5d79');\n",
              "          const dataTable =\n",
              "            await google.colab.kernel.invokeFunction('convertToInteractive',\n",
              "                                                     [key], {});\n",
              "          if (!dataTable) return;\n",
              "\n",
              "          const docLinkHtml = 'Like what you see? Visit the ' +\n",
              "            '<a target=\"_blank\" href=https://colab.research.google.com/notebooks/data_table.ipynb>data table notebook</a>'\n",
              "            + ' to learn more about interactive tables.';\n",
              "          element.innerHTML = '';\n",
              "          dataTable['output_type'] = 'display_data';\n",
              "          await google.colab.output.renderOutput(dataTable, element);\n",
              "          const docLink = document.createElement('div');\n",
              "          docLink.innerHTML = docLinkHtml;\n",
              "          element.appendChild(docLink);\n",
              "        }\n",
              "      </script>\n",
              "    </div>\n",
              "  </div>\n"
            ]
          },
          "metadata": {},
          "execution_count": 70
        }
      ]
    },
    {
      "cell_type": "code",
      "source": [
        "correlation_matrix = df.corr()"
      ],
      "metadata": {
        "colab": {
          "base_uri": "https://localhost:8080/"
        },
        "id": "7pGo20wdZjio",
        "outputId": "7368724e-81c7-4b7e-ea92-044375cf98fb"
      },
      "execution_count": null,
      "outputs": [
        {
          "output_type": "stream",
          "name": "stderr",
          "text": [
            "<ipython-input-71-68bbfff3c4eb>:1: FutureWarning: The default value of numeric_only in DataFrame.corr is deprecated. In a future version, it will default to False. Select only valid columns or specify the value of numeric_only to silence this warning.\n",
            "  correlation_matrix = df.corr()\n"
          ]
        }
      ]
    },
    {
      "cell_type": "code",
      "source": [
        "plt.figure(figsize=(8, 6))\n",
        "plt.imshow(correlation_matrix, cmap='coolwarm', interpolation='nearest')\n",
        "plt.colorbar()\n",
        "plt.xticks(range(len(correlation_matrix)), correlation_matrix.columns, rotation=90)\n",
        "plt.yticks(range(len(correlation_matrix)), correlation_matrix.columns)\n",
        "plt.title('Correlation Matrix')\n",
        "plt.show()\n"
      ],
      "metadata": {
        "colab": {
          "base_uri": "https://localhost:8080/",
          "height": 696
        },
        "id": "TjzHI9eeZpUO",
        "outputId": "a647bf82-0caa-4b0b-89b0-a69c219c5e94"
      },
      "execution_count": null,
      "outputs": [
        {
          "output_type": "display_data",
          "data": {
            "text/plain": [
              "<Figure size 800x600 with 2 Axes>"
            ],
            "image/png": "[encoded data removed]"
          },
          "metadata": {}
        }
      ]
    },
    {
      "cell_type": "markdown",
      "source": [
        "If you were to minimize the number of columns, which specific columns\n",
        "would you select? Kindly elaborate on your choice and reasoning ?"
      ],
      "metadata": {
        "id": "8s0N83v6d2_V"
      }
    },
    {
      "cell_type": "markdown",
      "source": [
        "I think, we can remove **has_gender_difference** and **is_baby** collumn\n",
        "The reason is they are not really have a good correlation with each collumn ![Screenshot_1.png](data:image/png;base64,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)"
      ],
      "metadata": {
        "id": "8PQ61Mewd-da"
      }
    },
    {
      "cell_type": "markdown",
      "source": [
        "Determine which columns exhibit the highest degree of correlation.\n"
      ],
      "metadata": {
        "id": "uh7BRkZFfd2U"
      }
    },
    {
      "cell_type": "markdown",
      "source": [
        "From Correlation Matrix we can see the highest degree of correlation are\n",
        "\n",
        "**Hacth_counter & is_legendary**\n",
        "\n",
        "Hatch Counter :  how long it takes to hatch an egg\n",
        "\n",
        "Is_legendary : are the eggs legendary ?\n",
        "               False  = No\n",
        "                ; True   = Yes"
      ],
      "metadata": {
        "id": "TKbDCjnmfgkM"
      }
    },
    {
      "cell_type": "markdown",
      "source": [
        "We gonna see why"
      ],
      "metadata": {
        "id": "k6ZlNz1-5MFM"
      }
    },
    {
      "cell_type": "code",
      "source": [
        "high_corr_1 = df.loc[(df['is_legendary'] == True)]\n",
        "high_corr_2 = high_corr_1[['is_legendary', 'hatch_counter']].copy()\n",
        "print(high_corr_2)"
      ],
      "metadata": {
        "colab": {
          "base_uri": "https://localhost:8080/"
        },
        "id": "ZWSRHEunANKi",
        "outputId": "aa990060-0f69-4452-d676-cca3053e0e66"
      },
      "execution_count": null,
      "outputs": [
        {
          "output_type": "stream",
          "name": "stdout",
          "text": [
            "     is_legendary  hatch_counter\n",
            "143          True             80\n",
            "144          True             80\n",
            "145          True             80\n",
            "149          True            120\n",
            "242          True             80\n",
            "243          True             80\n",
            "244          True             80\n",
            "248          True            120\n",
            "249          True            120\n",
            "376          True             80\n",
            "377          True             80\n",
            "378          True             80\n",
            "379          True            120\n",
            "380          True            120\n",
            "381          True            120\n",
            "382          True            120\n",
            "383          True            120\n",
            "479          True             80\n",
            "480          True             80\n",
            "481          True             80\n",
            "482          True            120\n",
            "483          True            120\n",
            "484          True             10\n",
            "485          True            120\n",
            "486          True            120\n",
            "487          True            120\n"
          ]
        }
      ]
    },
    {
      "cell_type": "code",
      "source": [
        "high_corr_2['hatch_counter'].unique()"
      ],
      "metadata": {
        "colab": {
          "base_uri": "https://localhost:8080/"
        },
        "id": "I_5nvmDhCUVP",
        "outputId": "e3f5a427-ed2e-4e34-a424-c60f0dae04dd"
      },
      "execution_count": null,
      "outputs": [
        {
          "output_type": "execute_result",
          "data": {
            "text/plain": [
              "array([ 80, 120,  10])"
            ]
          },
          "metadata": {},
          "execution_count": 88
        }
      ]
    },
    {
      "cell_type": "code",
      "source": [
        "high_corr_3 = df.loc[(df['is_legendary'] == False)]\n",
        "high_corr_4 = high_corr_3[['is_legendary', 'hatch_counter']].copy()\n",
        "print(high_corr_4)"
      ],
      "metadata": {
        "colab": {
          "base_uri": "https://localhost:8080/"
        },
        "id": "hpSYNIxeBUkd",
        "outputId": "e8a43044-4f61-4f6a-83ba-bde7905bda9f"
      },
      "execution_count": null,
      "outputs": [
        {
          "output_type": "stream",
          "name": "stdout",
          "text": [
            "     is_legendary  hatch_counter\n",
            "0           False             20\n",
            "1           False             20\n",
            "2           False             20\n",
            "3           False             20\n",
            "4           False             20\n",
            "..            ...            ...\n",
            "495         False             20\n",
            "496         False             20\n",
            "497         False             20\n",
            "498         False             20\n",
            "499         False             20\n",
            "\n",
            "[474 rows x 2 columns]\n"
          ]
        }
      ]
    },
    {
      "cell_type": "code",
      "source": [
        "high_corr_4['hatch_counter'].unique()"
      ],
      "metadata": {
        "colab": {
          "base_uri": "https://localhost:8080/"
        },
        "id": "Xr6DYIoWBoKn",
        "outputId": "e7bb3e64-2649-4475-ea8d-b088d7008e67"
      },
      "execution_count": null,
      "outputs": [
        {
          "output_type": "execute_result",
          "data": {
            "text/plain": [
              "array([ 20,  15,  10,  25,  40,   5,  35,  30, 120])"
            ]
          },
          "metadata": {},
          "execution_count": 87
        }
      ]
    },
    {
      "cell_type": "markdown",
      "source": [
        "Some legendary eggs that hatch faster must have specific conditions, just as some non-legendary eggs that hatch longer"
      ],
      "metadata": {
        "id": "e-eCASPQD57b"
      }
    },
    {
      "cell_type": "markdown",
      "source": [
        "\n",
        "\n",
        "**But for now, We can conclude that legendary eggs require longer hatching times than other kinds of eggs**"
      ],
      "metadata": {
        "id": "Dn52wXneDH2U"
      }
    },
    {
      "cell_type": "code",
      "source": [],
      "metadata": {
        "id": "2K6k-dBHDCTg"
      },
      "execution_count": null,
      "outputs": []
    },
    {
      "cell_type": "markdown",
      "source": [
        "# My perspective on establishing an Extract, Transform, Load (ETL)"
      ],
      "metadata": {
        "id": "D_nkqkf9eavo"
      }
    },
    {
      "cell_type": "markdown",
      "source": [
        "To establish an Extract, Transform, Load (ETL) procedure for transferring data from the Pokémon API v2 to a relational database like PostgreSQL, MySQL, or BigQuery, you need to follow these steps:\n",
        "\n",
        "Understanding the Pokémon API v2:\n",
        "First, familiarize yourself with the Pokémon API v2 and its endpoints. Understand the data structure, available fields, and the rate limits for data retrieval. This will help you plan the extraction process and identify the data you need to store in the relational database.\n",
        "\n",
        "Extracting Data:\n",
        "Design a data extraction process to retrieve data from the Pokémon API v2. Since the data is updated daily, you should set up a daily scheduled job to extract new and modified data. You can use Python, Node.js, or any other programming language of your choice to interact with the API and fetch the data. Store the extracted data in a temporary staging area.\n",
        "\n",
        "Transforming Data:\n",
        "Once the data is extracted, it might need to be transformed before loading it into the relational database. Transformation involves cleaning, validating, and structuring the data in a way that fits the database schema. Consider the following tasks during data transformation:\n",
        "\n",
        "Handle missing or null values.\n",
        "Convert data types to match the database schema.\n",
        "Merge, split, or reformat data as required.\n",
        "Apply any necessary business rules or data logic.\n",
        "You can perform these transformations using tools like Python, SQL, or ETL-specific frameworks like Apache NiFi or Apache Spark.\n",
        "\n",
        "Designing the Relational Database Schema:\n",
        "Before loading the data into the relational database, you need to design an appropriate database schema. Identify the tables and relationships required to store the Pokémon data efficiently. Create tables with the necessary columns and data types to match the transformed data.\n",
        "\n",
        "Loading Data into the Relational Database:\n",
        "Once the data is transformed and the database schema is set up, you can start loading the data into the relational database. Depending on the database system you choose (PostgreSQL, MySQL, or BigQuery), there are different methods for loading data:\n",
        "\n",
        "PostgreSQL or MySQL: You can use SQL INSERT statements or bulk loading utilities like COPY or LOAD DATA INFILE.\n",
        "BigQuery: You can use the BigQuery API or bq load command to load data into BigQuery tables.\n",
        "Scheduling the ETL Process:\n",
        "Since the data is updated daily, schedule the ETL process to run at a specific time each day to fetch new data from the Pokémon API v2 and update the relational database accordingly. Use cron jobs, Airflow, or any other scheduling tool to automate this process.\n",
        "\n",
        "Error Handling and Monitoring:\n",
        "Implement error handling mechanisms to capture and handle any issues that might occur during the ETL process. Monitor the ETL pipeline to ensure it runs smoothly and efficiently.\n",
        "\n",
        "Testing and Validation:\n",
        "Test the ETL procedure thoroughly to ensure the data is extracted, transformed, and loaded correctly into the relational database. Validate the data in the database against the original Pokémon API v2 data to ensure data integrity and accuracy.\n",
        "\n",
        "By following these steps, you can establish a robust ETL procedure to transfer data from the Pokémon API v2 to a relational database, enabling you to work with the data effectively for analysis, reporting, and other data-driven tasks."
      ],
      "metadata": {
        "id": "MctBa8Pwequ-"
      }
    }
  ]
}